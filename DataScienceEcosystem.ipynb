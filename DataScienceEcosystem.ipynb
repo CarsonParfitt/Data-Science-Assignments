{
 "cells": [
  {
   "cell_type": "markdown",
   "id": "5d57dc6c-2c32-41bd-95b3-d505473db3cd",
   "metadata": {},
   "source": [
    "# Data Science Tools and Ecosystem"
   ]
  },
  {
   "cell_type": "markdown",
   "id": "5eeb40c0-3105-4226-a2ca-30bbe1451677",
   "metadata": {},
   "source": [
    "### In this notebook, Data Science Tools and Ecosystem are summarized "
   ]
  },
  {
   "cell_type": "markdown",
   "id": "809aba2c-89e2-45a5-83a2-e5862be813e4",
   "metadata": {},
   "source": [
    "**Objectives:**\n",
    "- List Popular Languages for Data Science \n",
    "- List Commonly used libraries used by Data Scientists\n",
    "- Evaluating Arithmatic Expressions in Python"
   ]
  },
  {
   "cell_type": "markdown",
   "id": "47d89d40-dae8-4b59-8a88-c781e311364e",
   "metadata": {},
   "source": [
    "#### Some of the popular languages that Data Scientsts use are: \n",
    "\n",
    "1. Python\n",
    "2. R \n",
    "3. Julia"
   ]
  },
  {
   "cell_type": "markdown",
   "id": "bff7a0f1-c9ef-4c56-94b5-3cc127f8543b",
   "metadata": {},
   "source": [
    "#### Some of the commonly used libraries used by Data Scientists include: \n",
    "1. Altair\n",
    "2. Plotly \n",
    "3. ipywidgets"
   ]
  },
  {
   "cell_type": "markdown",
   "id": "d8bb20d6-4930-43c3-82a8-2840414f1cae",
   "metadata": {},
   "source": [
    "| Data Science Tools |\n",
    "----------------------\n",
    "| My SQL |\n",
    "| MongoDB |\n",
    "| Hadoop File System |"
   ]
  },
  {
   "cell_type": "markdown",
   "id": "fe3ea32f-cd37-4282-9aea-24e9f556f76a",
   "metadata": {},
   "source": [
    "### Below are a few examples of evaluating arithmetic expressions in Python "
   ]
  },
  {
   "cell_type": "code",
   "execution_count": 18,
   "id": "39b68a1e-7de3-4be0-abc1-74e8f87d1a01",
   "metadata": {},
   "outputs": [
    {
     "data": {
      "text/plain": [
       "17"
      ]
     },
     "execution_count": 18,
     "metadata": {},
     "output_type": "execute_result"
    }
   ],
   "source": [
    "#This is a sample arithmetic expression to multiply then add integers \n",
    "(3*4)+5"
   ]
  },
  {
   "cell_type": "code",
   "execution_count": 2,
   "id": "3fb62797-ee1d-47fe-b970-b88afad89a37",
   "metadata": {},
   "outputs": [
    {
     "data": {
      "text/plain": [
       "3.3333333333333335"
      ]
     },
     "execution_count": 2,
     "metadata": {},
     "output_type": "execute_result"
    }
   ],
   "source": [
    "#This will convert 200 minutes to hours by dividing by 60\n",
    "200/60"
   ]
  },
  {
   "cell_type": "markdown",
   "id": "86c29bf9-8c7a-48b7-8f04-9dd1367332e1",
   "metadata": {},
   "source": [
    "## Author\n",
    "Carson Parfitt"
   ]
  },
  {
   "cell_type": "code",
   "execution_count": null,
   "id": "5f8649eb-a21b-49d3-9ca8-e897293f7bb6",
   "metadata": {},
   "outputs": [],
   "source": []
  }
 ],
 "metadata": {
  "kernelspec": {
   "display_name": "anaconda-panel-2023.05-py310",
   "language": "python",
   "name": "conda-env-anaconda-panel-2023.05-py310-py"
  },
  "language_info": {
   "codemirror_mode": {
    "name": "ipython",
    "version": 3
   },
   "file_extension": ".py",
   "mimetype": "text/x-python",
   "name": "python",
   "nbconvert_exporter": "python",
   "pygments_lexer": "ipython3",
   "version": "3.11.5"
  }
 },
 "nbformat": 4,
 "nbformat_minor": 5
}
